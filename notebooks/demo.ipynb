{
 "cells": [
  {
   "cell_type": "markdown",
   "metadata": {},
   "source": [
    "#### Virtual Environment Setup\n",
    "* include a section about how to setup a virtual environment once i figure that out.\n",
    "* possible to put the .yaml stuff in this notebook as well?"
   ]
  },
  {
   "cell_type": "markdown",
   "metadata": {},
   "source": [
    "### Installation\n",
    "`spectrAOD` is available for download through `pip` and Github: https://github.com/cmagness/spectrAOD,\n",
    "where you'll find the instructions on how to create your environment and install the package, as well as setup your configuration file. Once you've done that, using the package is simple."
   ]
  },
  {
   "cell_type": "code",
   "execution_count": 4,
   "metadata": {},
   "outputs": [
    {
     "name": "stdout",
     "output_type": "stream",
     "text": [
      "Help on package spectrAOD:\n",
      "\n",
      "NAME\n",
      "    spectrAOD\n",
      "\n",
      "PACKAGE CONTENTS\n",
      "    format_data\n",
      "    measure_aod\n",
      "    spectrum_classes\n",
      "\n",
      "DATA\n",
      "    SETTINGS = {'defaults': {'all_ions': '/user/cmagness/fermi/code/spectr...\n",
      "    parameter = 'grating'\n",
      "    value = '/user/cmagness/fermi/code/spectrAOD/spectrAOD/mini_ions.csv'\n",
      "    yamlfile = <_io.TextIOWrapper name='/user/cmagness/fermi/co...ectrAOD/...\n",
      "\n",
      "FILE\n",
      "    /Users/cmagness/miniconda3/envs/spectraod/lib/python3.5/site-packages/spectrAOD/__init__.py\n",
      "\n",
      "\n"
     ]
    }
   ],
   "source": [
    "import spectrAOD\n",
    "help(spectrAOD)"
   ]
  },
  {
   "cell_type": "code",
   "execution_count": null,
   "metadata": {},
   "outputs": [],
   "source": []
  },
  {
   "cell_type": "code",
   "execution_count": null,
   "metadata": {},
   "outputs": [],
   "source": []
  }
 ],
 "metadata": {
  "kernelspec": {
   "display_name": "Python 3",
   "language": "python",
   "name": "python3"
  },
  "language_info": {
   "codemirror_mode": {
    "name": "ipython",
    "version": 3
   },
   "file_extension": ".py",
   "mimetype": "text/x-python",
   "name": "python",
   "nbconvert_exporter": "python",
   "pygments_lexer": "ipython3",
   "version": "3.5.6"
  }
 },
 "nbformat": 4,
 "nbformat_minor": 2
}
